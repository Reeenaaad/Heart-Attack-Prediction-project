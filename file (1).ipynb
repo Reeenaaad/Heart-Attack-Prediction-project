{
  "metadata": {
    "kernelspec": {
      "name": "python",
      "display_name": "Python (Pyodide)",
      "language": "python"
    },
    "language_info": {
      "codemirror_mode": {
        "name": "python",
        "version": 3
      },
      "file_extension": ".py",
      "mimetype": "text/x-python",
      "name": "python",
      "nbconvert_exporter": "python",
      "pygments_lexer": "ipython3",
      "version": "3.8"
    }
  },
  "nbformat_minor": 4,
  "nbformat": 4,
  "cells": [
    {
      "cell_type": "code",
      "source": "import pandas as pd\ndf = pd.read_csv('../notebooks/heart (2).csv')\n",
      "metadata": {
        "trusted": true
      },
      "outputs": [],
      "execution_count": 11
    },
    {
      "cell_type": "markdown",
      "source": "#Goal: Conduct a comprehensive statistical analysis of heart attack prediction models to identify the most effective predictors and develop a robust statistical model that accurately predicts the risk of heart attacks in a given population.\n\n# source of the dataset, include link\\URL \"https://www.kaggle.com/datasets/juledz/heart-attack-prediction\"\n\n",
      "metadata": {}
    },
    {
      "cell_type": "code",
      "source": "df.describe()",
      "metadata": {
        "trusted": true
      },
      "outputs": [
        {
          "execution_count": 12,
          "output_type": "execute_result",
          "data": {
            "text/plain": "               age          sex           cp     trestbps        chol  \\\ncount  1025.000000  1025.000000  1025.000000  1025.000000  1025.00000   \nmean     54.434146     0.695610     0.942439   131.611707   246.00000   \nstd       9.072290     0.460373     1.029641    17.516718    51.59251   \nmin      29.000000     0.000000     0.000000    94.000000   126.00000   \n25%      48.000000     0.000000     0.000000   120.000000   211.00000   \n50%      56.000000     1.000000     1.000000   130.000000   240.00000   \n75%      61.000000     1.000000     2.000000   140.000000   275.00000   \nmax      77.000000     1.000000     3.000000   200.000000   564.00000   \n\n               fbs      restecg      thalach        exang      oldpeak  \\\ncount  1025.000000  1025.000000  1025.000000  1025.000000  1025.000000   \nmean      0.149268     0.529756   149.114146     0.336585     1.071512   \nstd       0.356527     0.527878    23.005724     0.472772     1.175053   \nmin       0.000000     0.000000    71.000000     0.000000     0.000000   \n25%       0.000000     0.000000   132.000000     0.000000     0.000000   \n50%       0.000000     1.000000   152.000000     0.000000     0.800000   \n75%       0.000000     1.000000   166.000000     1.000000     1.800000   \nmax       1.000000     2.000000   202.000000     1.000000     6.200000   \n\n             slope           ca         thal       target  \ncount  1025.000000  1025.000000  1025.000000  1025.000000  \nmean      1.385366     0.754146     2.323902     0.536390  \nstd       0.617755     1.030798     0.620660     0.285822  \nmin       0.000000     0.000000     0.000000     0.100000  \n25%       1.000000     0.000000     2.000000     0.260000  \n50%       1.000000     0.000000     2.000000     0.710000  \n75%       2.000000     1.000000     3.000000     0.810000  \nmax       2.000000     4.000000     3.000000     0.900000  ",
            "text/html": "<div>\n<style scoped>\n    .dataframe tbody tr th:only-of-type {\n        vertical-align: middle;\n    }\n\n    .dataframe tbody tr th {\n        vertical-align: top;\n    }\n\n    .dataframe thead th {\n        text-align: right;\n    }\n</style>\n<table border=\"1\" class=\"dataframe\">\n  <thead>\n    <tr style=\"text-align: right;\">\n      <th></th>\n      <th>age</th>\n      <th>sex</th>\n      <th>cp</th>\n      <th>trestbps</th>\n      <th>chol</th>\n      <th>fbs</th>\n      <th>restecg</th>\n      <th>thalach</th>\n      <th>exang</th>\n      <th>oldpeak</th>\n      <th>slope</th>\n      <th>ca</th>\n      <th>thal</th>\n      <th>target</th>\n    </tr>\n  </thead>\n  <tbody>\n    <tr>\n      <th>count</th>\n      <td>1025.000000</td>\n      <td>1025.000000</td>\n      <td>1025.000000</td>\n      <td>1025.000000</td>\n      <td>1025.00000</td>\n      <td>1025.000000</td>\n      <td>1025.000000</td>\n      <td>1025.000000</td>\n      <td>1025.000000</td>\n      <td>1025.000000</td>\n      <td>1025.000000</td>\n      <td>1025.000000</td>\n      <td>1025.000000</td>\n      <td>1025.000000</td>\n    </tr>\n    <tr>\n      <th>mean</th>\n      <td>54.434146</td>\n      <td>0.695610</td>\n      <td>0.942439</td>\n      <td>131.611707</td>\n      <td>246.00000</td>\n      <td>0.149268</td>\n      <td>0.529756</td>\n      <td>149.114146</td>\n      <td>0.336585</td>\n      <td>1.071512</td>\n      <td>1.385366</td>\n      <td>0.754146</td>\n      <td>2.323902</td>\n      <td>0.536390</td>\n    </tr>\n    <tr>\n      <th>std</th>\n      <td>9.072290</td>\n      <td>0.460373</td>\n      <td>1.029641</td>\n      <td>17.516718</td>\n      <td>51.59251</td>\n      <td>0.356527</td>\n      <td>0.527878</td>\n      <td>23.005724</td>\n      <td>0.472772</td>\n      <td>1.175053</td>\n      <td>0.617755</td>\n      <td>1.030798</td>\n      <td>0.620660</td>\n      <td>0.285822</td>\n    </tr>\n    <tr>\n      <th>min</th>\n      <td>29.000000</td>\n      <td>0.000000</td>\n      <td>0.000000</td>\n      <td>94.000000</td>\n      <td>126.00000</td>\n      <td>0.000000</td>\n      <td>0.000000</td>\n      <td>71.000000</td>\n      <td>0.000000</td>\n      <td>0.000000</td>\n      <td>0.000000</td>\n      <td>0.000000</td>\n      <td>0.000000</td>\n      <td>0.100000</td>\n    </tr>\n    <tr>\n      <th>25%</th>\n      <td>48.000000</td>\n      <td>0.000000</td>\n      <td>0.000000</td>\n      <td>120.000000</td>\n      <td>211.00000</td>\n      <td>0.000000</td>\n      <td>0.000000</td>\n      <td>132.000000</td>\n      <td>0.000000</td>\n      <td>0.000000</td>\n      <td>1.000000</td>\n      <td>0.000000</td>\n      <td>2.000000</td>\n      <td>0.260000</td>\n    </tr>\n    <tr>\n      <th>50%</th>\n      <td>56.000000</td>\n      <td>1.000000</td>\n      <td>1.000000</td>\n      <td>130.000000</td>\n      <td>240.00000</td>\n      <td>0.000000</td>\n      <td>1.000000</td>\n      <td>152.000000</td>\n      <td>0.000000</td>\n      <td>0.800000</td>\n      <td>1.000000</td>\n      <td>0.000000</td>\n      <td>2.000000</td>\n      <td>0.710000</td>\n    </tr>\n    <tr>\n      <th>75%</th>\n      <td>61.000000</td>\n      <td>1.000000</td>\n      <td>2.000000</td>\n      <td>140.000000</td>\n      <td>275.00000</td>\n      <td>0.000000</td>\n      <td>1.000000</td>\n      <td>166.000000</td>\n      <td>1.000000</td>\n      <td>1.800000</td>\n      <td>2.000000</td>\n      <td>1.000000</td>\n      <td>3.000000</td>\n      <td>0.810000</td>\n    </tr>\n    <tr>\n      <th>max</th>\n      <td>77.000000</td>\n      <td>1.000000</td>\n      <td>3.000000</td>\n      <td>200.000000</td>\n      <td>564.00000</td>\n      <td>1.000000</td>\n      <td>2.000000</td>\n      <td>202.000000</td>\n      <td>1.000000</td>\n      <td>6.200000</td>\n      <td>2.000000</td>\n      <td>4.000000</td>\n      <td>3.000000</td>\n      <td>0.900000</td>\n    </tr>\n  </tbody>\n</table>\n</div>"
          },
          "metadata": {}
        }
      ],
      "execution_count": 12
    },
    {
      "cell_type": "code",
      "source": "df.info()",
      "metadata": {
        "trusted": true
      },
      "outputs": [
        {
          "name": "stdout",
          "text": "<class 'pandas.core.frame.DataFrame'>\nRangeIndex: 1025 entries, 0 to 1024\nData columns (total 14 columns):\n #   Column    Non-Null Count  Dtype  \n---  ------    --------------  -----  \n 0   age       1025 non-null   int64  \n 1   sex       1025 non-null   int64  \n 2   cp        1025 non-null   int64  \n 3   trestbps  1025 non-null   int64  \n 4   chol      1025 non-null   int64  \n 5   fbs       1025 non-null   int64  \n 6   restecg   1025 non-null   int64  \n 7   thalach   1025 non-null   int64  \n 8   exang     1025 non-null   int64  \n 9   oldpeak   1025 non-null   float64\n 10  slope     1025 non-null   int64  \n 11  ca        1025 non-null   int64  \n 12  thal      1025 non-null   int64  \n 13  target    1025 non-null   float64\ndtypes: float64(2), int64(12)\nmemory usage: 112.2 KB\n",
          "output_type": "stream"
        }
      ],
      "execution_count": 13
    },
    {
      "cell_type": "code",
      "source": "",
      "metadata": {
        "trusted": true
      },
      "outputs": [],
      "execution_count": null
    }
  ]
}
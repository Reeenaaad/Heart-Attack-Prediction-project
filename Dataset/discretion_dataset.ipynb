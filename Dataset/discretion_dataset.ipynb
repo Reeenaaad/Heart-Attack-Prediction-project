{
  "metadata": {
    "kernelspec": {
      "name": "python",
      "display_name": "Python (Pyodide)",
      "language": "python"
    },
    "language_info": {
      "codemirror_mode": {
        "name": "python",
        "version": 3
      },
      "file_extension": ".py",
      "mimetype": "text/x-python",
      "name": "python",
      "nbconvert_exporter": "python",
      "pygments_lexer": "ipython3",
      "version": "3.8"
    }
  },
  "nbformat_minor": 4,
  "nbformat": 4,
  "cells": [
    {
      "cell_type": "markdown",
      "source": "# Heart Attack prediction ",
      "metadata": {}
    },
    {
      "cell_type": "markdown",
      "source": "# Goal of cllecting the dataset:",
      "metadata": {}
    },
    {
      "cell_type": "markdown",
      "source": "The goal of this data mining project is to develop an accurate predictive model for identifying individuals at risk of experiencing a heart attack. Through the analysis of relevant medical data, including demographic information, lifestyle factors, medical history, and biomarkers, the project aims to create a predictive algorithm capable of accurately assessing the likelihood of a heart attack occurrence within a specified time frame. The ultimate objective is to assist healthcare professionals in implementing proactive interventions and personalized preventive measures to mitigate the risk of heart attacks and improve patient outcomes.",
      "metadata": {}
    },
    {
      "cell_type": "markdown",
      "source": "# source of this data :",
      "metadata": {}
    },
    {
      "cell_type": "markdown",
      "source": "The source of data for  Heart Attacks Prediction  is from the website kaggle.com , and here is the \nlink to the Dataset:\n\n[ source of the dataset, include link\\URL]( https://www.kaggle.com/datasets/juledz/heart-attack-prediction)",
      "metadata": {}
    },
    {
      "cell_type": "markdown",
      "source": "# General Information About The dataset:",
      "metadata": {}
    },
    {
      "cell_type": "markdown",
      "source": "- number of attributes :13\n- class name :Chest pain (cp)",
      "metadata": {}
    },
    {
      "cell_type": "code",
      "source": "import pandas as pd\n\ndata = {\n    'Attribute name': ['Age', 'Sex', 'cp', 'trestbps', 'chol', 'fbs', 'restecg', 'thalach', 'exang', 'oldpeak', 'slope', 'ca', 'thal'],\n    'Description': ['personal age', '0 = Male, 1 = Female', '0=Typical Angina, 1=Atypical Angina, 2=Non-anginal pain, 3=Asymptomatic', 'Resting Blood Pressure', 'Serum Cholesterol (mg/dl)', '0: <=120mg/dL, 1:>120mg/dL', '0 = normal, 1 = abnormality, 2= hypertrophy', 'Maximum Heart Rate Achieved', '0=No, 1=Yes', 'ST Depression', '0: Upsloping, 1: Flat, 2: Downsloping', 'Number of Major Vessels Colored by Fluoroscopy', '0: Normal, 1: Fixed Defect, 2: Reversible Defect'],\n    'Data Type': ['Numeric', 'Binary', 'Numeric', 'Numeric', 'Numeric', 'Binary', 'Numeric', 'Numeric', 'Binary', 'Numeric', 'Numeric', 'Numeric', 'Numeric'],\n    'Range': ['29-77', '0 or 1', '0,1,2,3', '0,1,2', '126-564', '0 or 1', '0,1,2', '71-202', '0 or 1', '0-7', '0,1,2', '0-3', '0,1,2']\n}\n\ndf = pd.DataFrame(data)\ndf",
      "metadata": {
        "trusted": true
      },
      "outputs": [
        {
          "execution_count": 3,
          "output_type": "execute_result",
          "data": {
            "text/plain": "   Attribute name                                        Description  \\\n0             Age                                       personal age   \n1             Sex                               0 = Male, 1 = Female   \n2              cp  0=Typical Angina, 1=Atypical Angina, 2=Non-ang...   \n3        trestbps                             Resting Blood Pressure   \n4            chol                          Serum Cholesterol (mg/dl)   \n5             fbs                         0: <=120mg/dL, 1:>120mg/dL   \n6         restecg        0 = normal, 1 = abnormality, 2= hypertrophy   \n7         thalach                        Maximum Heart Rate Achieved   \n8           exang                                        0=No, 1=Yes   \n9         oldpeak                                      ST Depression   \n10          slope              0: Upsloping, 1: Flat, 2: Downsloping   \n11             ca     Number of Major Vessels Colored by Fluoroscopy   \n12           thal   0: Normal, 1: Fixed Defect, 2: Reversible Defect   \n\n   Data Type    Range  \n0    Numeric    29-77  \n1     Binary   0 or 1  \n2    Numeric  0,1,2,3  \n3    Numeric    0,1,2  \n4    Numeric  126-564  \n5     Binary   0 or 1  \n6    Numeric    0,1,2  \n7    Numeric   71-202  \n8     Binary   0 or 1  \n9    Numeric      0-7  \n10   Numeric    0,1,2  \n11   Numeric      0-3  \n12   Numeric    0,1,2  ",
            "text/html": "<div>\n<style scoped>\n    .dataframe tbody tr th:only-of-type {\n        vertical-align: middle;\n    }\n\n    .dataframe tbody tr th {\n        vertical-align: top;\n    }\n\n    .dataframe thead th {\n        text-align: right;\n    }\n</style>\n<table border=\"1\" class=\"dataframe\">\n  <thead>\n    <tr style=\"text-align: right;\">\n      <th></th>\n      <th>Attribute name</th>\n      <th>Description</th>\n      <th>Data Type</th>\n      <th>Range</th>\n    </tr>\n  </thead>\n  <tbody>\n    <tr>\n      <th>0</th>\n      <td>Age</td>\n      <td>personal age</td>\n      <td>Numeric</td>\n      <td>29-77</td>\n    </tr>\n    <tr>\n      <th>1</th>\n      <td>Sex</td>\n      <td>0 = Male, 1 = Female</td>\n      <td>Binary</td>\n      <td>0 or 1</td>\n    </tr>\n    <tr>\n      <th>2</th>\n      <td>cp</td>\n      <td>0=Typical Angina, 1=Atypical Angina, 2=Non-ang...</td>\n      <td>Numeric</td>\n      <td>0,1,2,3</td>\n    </tr>\n    <tr>\n      <th>3</th>\n      <td>trestbps</td>\n      <td>Resting Blood Pressure</td>\n      <td>Numeric</td>\n      <td>0,1,2</td>\n    </tr>\n    <tr>\n      <th>4</th>\n      <td>chol</td>\n      <td>Serum Cholesterol (mg/dl)</td>\n      <td>Numeric</td>\n      <td>126-564</td>\n    </tr>\n    <tr>\n      <th>5</th>\n      <td>fbs</td>\n      <td>0: &lt;=120mg/dL, 1:&gt;120mg/dL</td>\n      <td>Binary</td>\n      <td>0 or 1</td>\n    </tr>\n    <tr>\n      <th>6</th>\n      <td>restecg</td>\n      <td>0 = normal, 1 = abnormality, 2= hypertrophy</td>\n      <td>Numeric</td>\n      <td>0,1,2</td>\n    </tr>\n    <tr>\n      <th>7</th>\n      <td>thalach</td>\n      <td>Maximum Heart Rate Achieved</td>\n      <td>Numeric</td>\n      <td>71-202</td>\n    </tr>\n    <tr>\n      <th>8</th>\n      <td>exang</td>\n      <td>0=No, 1=Yes</td>\n      <td>Binary</td>\n      <td>0 or 1</td>\n    </tr>\n    <tr>\n      <th>9</th>\n      <td>oldpeak</td>\n      <td>ST Depression</td>\n      <td>Numeric</td>\n      <td>0-7</td>\n    </tr>\n    <tr>\n      <th>10</th>\n      <td>slope</td>\n      <td>0: Upsloping, 1: Flat, 2: Downsloping</td>\n      <td>Numeric</td>\n      <td>0,1,2</td>\n    </tr>\n    <tr>\n      <th>11</th>\n      <td>ca</td>\n      <td>Number of Major Vessels Colored by Fluoroscopy</td>\n      <td>Numeric</td>\n      <td>0-3</td>\n    </tr>\n    <tr>\n      <th>12</th>\n      <td>thal</td>\n      <td>0: Normal, 1: Fixed Defect, 2: Reversible Defect</td>\n      <td>Numeric</td>\n      <td>0,1,2</td>\n    </tr>\n  </tbody>\n</table>\n</div>"
          },
          "metadata": {}
        }
      ],
      "execution_count": 3
    }
  ]
}